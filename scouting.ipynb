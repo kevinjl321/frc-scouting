{
 "metadata": {
  "language_info": {
   "codemirror_mode": {
    "name": "ipython",
    "version": 3
   },
   "file_extension": ".py",
   "mimetype": "text/x-python",
   "name": "python",
   "nbconvert_exporter": "python",
   "pygments_lexer": "ipython3",
   "version": "3.8.3-final"
  },
  "orig_nbformat": 2,
  "kernelspec": {
   "name": "python3",
   "language": "python",
   "display_name": "Python 3"
  }
 },
 "nbformat": 4,
 "nbformat_minor": 2,
 "cells": [
  {
   "cell_type": "code",
   "execution_count": 6,
   "metadata": {},
   "outputs": [
    {
     "ename": "ModuleNotFoundError",
     "evalue": "No module named 'google_auth_oauthlib'",
     "output_type": "error",
     "traceback": [
      "\u001B[1;31m---------------------------------------------------------------------------\u001B[0m",
      "\u001B[1;31mModuleNotFoundError\u001B[0m                       Traceback (most recent call last)",
      "\u001B[1;32m<ipython-input-6-81084407753f>\u001B[0m in \u001B[0;36m<module>\u001B[1;34m\u001B[0m\n\u001B[0;32m      1\u001B[0m \u001B[1;32mimport\u001B[0m \u001B[0mpandas\u001B[0m \u001B[1;32mas\u001B[0m \u001B[0mpd\u001B[0m\u001B[1;33m\u001B[0m\u001B[1;33m\u001B[0m\u001B[0m\n\u001B[1;32m----> 2\u001B[1;33m \u001B[1;32mfrom\u001B[0m \u001B[0mfunctions\u001B[0m\u001B[1;33m.\u001B[0m\u001B[0mscoring\u001B[0m \u001B[1;32mimport\u001B[0m \u001B[1;33m*\u001B[0m\u001B[1;33m\u001B[0m\u001B[1;33m\u001B[0m\u001B[0m\n\u001B[0m\u001B[0;32m      3\u001B[0m \u001B[1;33m\u001B[0m\u001B[0m\n",
      "\u001B[1;32m~\\Desktop\\Python\\frc-scouting\\functions\\scoring.py\u001B[0m in \u001B[0;36m<module>\u001B[1;34m\u001B[0m\n\u001B[0;32m      1\u001B[0m \u001B[1;32mimport\u001B[0m \u001B[0mpandas\u001B[0m \u001B[1;32mas\u001B[0m \u001B[0mpd\u001B[0m\u001B[1;33m\u001B[0m\u001B[1;33m\u001B[0m\u001B[0m\n\u001B[1;32m----> 2\u001B[1;33m \u001B[1;32mfrom\u001B[0m \u001B[0mfunctions\u001B[0m\u001B[1;33m.\u001B[0m\u001B[0msheets\u001B[0m \u001B[1;32mimport\u001B[0m \u001B[1;33m*\u001B[0m\u001B[1;33m\u001B[0m\u001B[1;33m\u001B[0m\u001B[0m\n\u001B[0m\u001B[0;32m      3\u001B[0m \u001B[1;33m\u001B[0m\u001B[0m\n\u001B[0;32m      4\u001B[0m \u001B[0mSCOPES\u001B[0m \u001B[1;33m=\u001B[0m \u001B[1;33m[\u001B[0m\u001B[1;34m'https://www.googleapis.com/auth/spreadsheets'\u001B[0m\u001B[1;33m]\u001B[0m\u001B[1;33m\u001B[0m\u001B[1;33m\u001B[0m\u001B[0m\n\u001B[0;32m      5\u001B[0m \u001B[0mSPREADSHEET_ID\u001B[0m \u001B[1;33m=\u001B[0m \u001B[1;34m'12PwDvuHqI2fhktM3IN_7hZs7lZmwWKz2vihlS1Evt9A'\u001B[0m\u001B[1;33m\u001B[0m\u001B[1;33m\u001B[0m\u001B[0m\n",
      "\u001B[1;32m~\\Desktop\\Python\\frc-scouting\\functions\\sheets.py\u001B[0m in \u001B[0;36m<module>\u001B[1;34m\u001B[0m\n\u001B[0;32m      1\u001B[0m \u001B[1;32mimport\u001B[0m \u001B[0mpickle\u001B[0m\u001B[1;33m\u001B[0m\u001B[1;33m\u001B[0m\u001B[0m\n\u001B[0;32m      2\u001B[0m \u001B[1;32mimport\u001B[0m \u001B[0mos\u001B[0m\u001B[1;33m.\u001B[0m\u001B[0mpath\u001B[0m\u001B[1;33m\u001B[0m\u001B[1;33m\u001B[0m\u001B[0m\n\u001B[1;32m----> 3\u001B[1;33m \u001B[1;32mfrom\u001B[0m \u001B[0mgoogle_auth_oauthlib\u001B[0m\u001B[1;33m.\u001B[0m\u001B[0mflow\u001B[0m \u001B[1;32mimport\u001B[0m \u001B[0mInstalledAppFlow\u001B[0m\u001B[1;33m\u001B[0m\u001B[1;33m\u001B[0m\u001B[0m\n\u001B[0m\u001B[0;32m      4\u001B[0m \u001B[1;32mfrom\u001B[0m \u001B[0mgoogle\u001B[0m\u001B[1;33m.\u001B[0m\u001B[0mauth\u001B[0m\u001B[1;33m.\u001B[0m\u001B[0mtransport\u001B[0m\u001B[1;33m.\u001B[0m\u001B[0mrequests\u001B[0m \u001B[1;32mimport\u001B[0m \u001B[0mRequest\u001B[0m\u001B[1;33m\u001B[0m\u001B[1;33m\u001B[0m\u001B[0m\n\u001B[0;32m      5\u001B[0m \u001B[1;32mfrom\u001B[0m \u001B[0mgoogleapiclient\u001B[0m\u001B[1;33m.\u001B[0m\u001B[0mdiscovery\u001B[0m \u001B[1;32mimport\u001B[0m \u001B[0mbuild\u001B[0m\u001B[1;33m\u001B[0m\u001B[1;33m\u001B[0m\u001B[0m\n",
      "\u001B[1;31mModuleNotFoundError\u001B[0m: No module named 'google_auth_oauthlib'"
     ]
    }
   ],
   "source": [
    "import pandas as pd\n",
    "from functions.scoring import *"
   ]
  },
  {
   "cell_type": "code",
   "execution_count": null,
   "metadata": {},
   "outputs": [],
   "source": [
    "# Display a list of available teams\n",
    "team_nums = df['Team Number']\n",
    "team_nums = team_nums.drop_duplicates()\n",
    "\n",
    "pd.set_option('display.max_rows', None)\n",
    "print('Available Teams:')\n",
    "print(team_nums)\n",
    "pd.reset_option('display.max_rows')"
   ]
  },
  {
   "cell_type": "code",
   "execution_count": null,
   "metadata": {},
   "outputs": [],
   "source": [
    "# UI\n",
    "while True:\n",
    "    choice = int(input((\"1 - View analytics dashboard for a specified team. \\n\"\n",
    "                       \"2 - Choose alliance members by viewing lists of best scorers, etc. \\n\"\n",
    "                       \"3 - Exit the program. \\n\\n\"\n",
    "                       \"Enter either '1', '2', or '3' to select an option: \")))\n",
    "\n",
    "    if choice == 1:\n",
    "        team_input = int(input('Enter the team number of the team you wish to analyze: '))\n",
    "        while True:\n",
    "            team_df = df[df['Team Number'] == team_input]\n",
    "            if len(team_df.index) == 0:\n",
    "                team_input = int(input('The team number you have entered was not found in the database. Enter a valid team number: '))\n",
    "            else:\n",
    "                break\n",
    "        view_dashboard(team_input)\n",
    "        break\n",
    "    elif choice == 2:\n",
    "        choose_members()\n",
    "        break\n",
    "    elif choice == 3:\n",
    "        break\n",
    "    else:\n",
    "        print(\"Please enter either '1' or '2'!\")"
   ]
  },
  {
   "cell_type": "code",
   "execution_count": null,
   "metadata": {},
   "outputs": [],
   "source": []
  }
 ]
}